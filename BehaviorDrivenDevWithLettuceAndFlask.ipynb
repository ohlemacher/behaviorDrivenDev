{
 "cells": [
  {
   "cell_type": "markdown",
   "metadata": {},
   "source": [
    "## Experiments with Behavior Driven Development\n",
    "This is my introduction to behavior driven development (BDD) in Python. I have implemented a simple RESTful application using the Flask web framework. Lettuce is used enforce the mapping of user stories to tests via very simple description language called gherkin.\n",
    "\n",
    "References:\n",
    "- [Behavior Driven Development](https://semaphoreci.com/community/tutorials/behavior-driven-development)\n",
    "- [Lettuce](http://lettuce.it/)\n",
    "- [Flask Quick Start](http://flask.pocoo.org/docs/0.10/quickstart/)\n",
    "- [Designing a RESTful API with Python and Flask](http://blog.miguelgrinberg.com/post/designing-a-restful-api-with-python-and-flask)"
   ]
  },
  {
   "cell_type": "markdown",
   "metadata": {},
   "source": [
    "#### My first user story written in Gherkin\n",
    "Gherkin is the language that Cucumber and Lettuce understand. It is a Business Readable, Domain Specific Language that lets one describe software’s behaviour without detailing how that behaviour is implemented. "
   ]
  },
  {
   "cell_type": "code",
   "execution_count": 14,
   "metadata": {
    "collapsed": false
   },
   "outputs": [
    {
     "name": "stdout",
     "output_type": "stream",
     "text": [
      "# A BI submitted user story\n",
      "Feature: Handle storing, retrieving and deleting customer details\n",
      "Scenario: Retrieve a customer's details\n",
      "Given some users are in the system\n",
      "When I retrieve the customer 'david01'\n",
      "Then I should get a '200' response\n",
      "And the following user details are returned:\n",
      "| name |\n",
      "| David |\n",
      "\n"
     ]
    }
   ],
   "source": [
    "%%bash\n",
    "cat test/features/user.features"
   ]
  },
  {
   "cell_type": "markdown",
   "metadata": {},
   "source": [
    "### Testing\n",
    "The behavior description defines a behavior, but Python code is required to test the behavior.  This is implemented in steps.py."
   ]
  },
  {
   "cell_type": "code",
   "execution_count": 27,
   "metadata": {
    "collapsed": false
   },
   "outputs": [
    {
     "name": "stdout",
     "output_type": "stream",
     "text": [
      "\u001b[33m'''\u001b[39;49;00m\n",
      "\u001b[33mAllow defining steps and store values to be used across each step in the\u001b[39;49;00m\n",
      "\u001b[33mworld object.\u001b[39;49;00m\n",
      "\u001b[33m'''\u001b[39;49;00m\n",
      "\u001b[34mfrom\u001b[39;49;00m \u001b[39;49;00m\u001b[04m\u001b[36mlettuce\u001b[39;49;00m \u001b[39;49;00m\u001b[34mimport\u001b[39;49;00m \u001b[39;49;00mstep\u001b[39;49;00m,\u001b[39;49;00m \u001b[39;49;00mworld\u001b[39;49;00m,\u001b[39;49;00m \u001b[39;49;00mbefore\u001b[39;49;00m\n",
      "\u001b[34mfrom\u001b[39;49;00m \u001b[39;49;00m\u001b[04m\u001b[36mnose.tools\u001b[39;49;00m \u001b[39;49;00m\u001b[34mimport\u001b[39;49;00m \u001b[39;49;00massert_equals\u001b[39;49;00m\n",
      "\u001b[34mfrom\u001b[39;49;00m \u001b[39;49;00m\u001b[04m\u001b[36mapp.application\u001b[39;49;00m \u001b[39;49;00m\u001b[34mimport\u001b[39;49;00m \u001b[39;49;00mapp\u001b[39;49;00m,\u001b[39;49;00m \u001b[39;49;00mUSERS\u001b[39;49;00m\n",
      "\u001b[34mimport\u001b[39;49;00m \u001b[39;49;00m\u001b[04m\u001b[36mjson\u001b[39;49;00m\n",
      "\n",
      "\u001b[30;01m@before.all\u001b[39;49;00m\n",
      "\u001b[34mdef\u001b[39;49;00m \u001b[39;49;00m\u001b[32mbefore_all\u001b[39;49;00m(\u001b[39;49;00m)\u001b[39;49;00m:\u001b[39;49;00m\n",
      "    \u001b[39;49;00m\u001b[33m'''Setup for testing.'''\u001b[39;49;00m\n",
      "    \u001b[39;49;00mworld\u001b[39;49;00m.\u001b[39;49;00mapp\u001b[39;49;00m \u001b[39;49;00m=\u001b[39;49;00m \u001b[39;49;00mapp\u001b[39;49;00m.\u001b[39;49;00mtest_client\u001b[39;49;00m(\u001b[39;49;00m)\u001b[39;49;00m\n",
      "\n",
      "\u001b[30;01m@step\u001b[39;49;00m(\u001b[39;49;00m\u001b[33mu'\u001b[39;49;00m\u001b[33mGiven some users are in the system\u001b[39;49;00m\u001b[33m'\u001b[39;49;00m)\u001b[39;49;00m\n",
      "\u001b[34mdef\u001b[39;49;00m \u001b[39;49;00m\u001b[32mgiven_some_users_are_in_the_system\u001b[39;49;00m(\u001b[39;49;00mstep\u001b[39;49;00m)\u001b[39;49;00m:\u001b[39;49;00m\n",
      "    \u001b[39;49;00m\u001b[33m'''Add a user to USERS for testing against.'''\u001b[39;49;00m\n",
      "    \u001b[39;49;00mUSERS\u001b[39;49;00m.\u001b[39;49;00mupdate\u001b[39;49;00m(\u001b[39;49;00m{\u001b[39;49;00m\u001b[33m'\u001b[39;49;00m\u001b[33mdavid01\u001b[39;49;00m\u001b[33m'\u001b[39;49;00m:\u001b[39;49;00m \u001b[39;49;00m{\u001b[39;49;00m\u001b[33m'\u001b[39;49;00m\u001b[33mname\u001b[39;49;00m\u001b[33m'\u001b[39;49;00m:\u001b[39;49;00m \u001b[39;49;00m\u001b[33m'\u001b[39;49;00m\u001b[33mDavid\u001b[39;49;00m\u001b[33m'\u001b[39;49;00m}\u001b[39;49;00m}\u001b[39;49;00m)\u001b[39;49;00m\n",
      "\n",
      "\u001b[30;01m@step\u001b[39;49;00m(\u001b[39;49;00m\u001b[33mu'\u001b[39;49;00m\u001b[33mWhen I retrieve the customer \u001b[39;49;00m\u001b[33m\\'\u001b[39;49;00m\u001b[33m(.*)\u001b[39;49;00m\u001b[33m\\'\u001b[39;49;00m\u001b[33m'\u001b[39;49;00m)\u001b[39;49;00m\n",
      "\u001b[34mdef\u001b[39;49;00m \u001b[39;49;00m\u001b[32mwhen_i_retrieve_the_customer_group1\u001b[39;49;00m(\u001b[39;49;00mstep\u001b[39;49;00m,\u001b[39;49;00m \u001b[39;49;00musername\u001b[39;49;00m)\u001b[39;49;00m:\u001b[39;49;00m\n",
      "    \u001b[39;49;00m\u001b[33m'''\u001b[39;49;00m\n",
      "\u001b[33m    A capture group is used in the regular expression allowing us to\u001b[39;49;00m\n",
      "\u001b[33m    pass in variables to the step. This allows for the reuse of steps.\u001b[39;49;00m\n",
      "\u001b[33m    '''\u001b[39;49;00m\n",
      "    \u001b[39;49;00mworld\u001b[39;49;00m.\u001b[39;49;00mresponse\u001b[39;49;00m \u001b[39;49;00m=\u001b[39;49;00m \u001b[39;49;00mworld\u001b[39;49;00m.\u001b[39;49;00mapp\u001b[39;49;00m.\u001b[39;49;00mget\u001b[39;49;00m(\u001b[39;49;00m\u001b[33m'\u001b[39;49;00m\u001b[33m/user/{}\u001b[39;49;00m\u001b[33m'\u001b[39;49;00m.\u001b[39;49;00mformat\u001b[39;49;00m(\u001b[39;49;00musername\u001b[39;49;00m)\u001b[39;49;00m)\u001b[39;49;00m\n",
      "\n",
      "\u001b[30;01m@step\u001b[39;49;00m(\u001b[39;49;00m\u001b[33mu'\u001b[39;49;00m\u001b[33mThen I should get a \u001b[39;49;00m\u001b[33m\\'\u001b[39;49;00m\u001b[33m(.*)\u001b[39;49;00m\u001b[33m\\'\u001b[39;49;00m\u001b[33m response\u001b[39;49;00m\u001b[33m'\u001b[39;49;00m)\u001b[39;49;00m\n",
      "\u001b[34mdef\u001b[39;49;00m \u001b[39;49;00m\u001b[32mthen_i_should_get_a_group1_response_group2\u001b[39;49;00m(\u001b[39;49;00mstep\u001b[39;49;00m,\u001b[39;49;00m \u001b[39;49;00mexpected_status_code\u001b[39;49;00m)\u001b[39;49;00m:\u001b[39;49;00m\n",
      "    \u001b[39;49;00m\u001b[33m'''Check the status_code.'''\u001b[39;49;00m\n",
      "    \u001b[39;49;00massert_equals\u001b[39;49;00m(\u001b[39;49;00mworld\u001b[39;49;00m.\u001b[39;49;00mresponse\u001b[39;49;00m.\u001b[39;49;00mstatus_code\u001b[39;49;00m,\u001b[39;49;00m \u001b[39;49;00m\u001b[36mint\u001b[39;49;00m(\u001b[39;49;00mexpected_status_code\u001b[39;49;00m)\u001b[39;49;00m)\u001b[39;49;00m\n",
      "\n",
      "\u001b[30;01m@step\u001b[39;49;00m(\u001b[39;49;00m\u001b[33mu'\u001b[39;49;00m\u001b[33mAnd the following user details are returned:\u001b[39;49;00m\u001b[33m'\u001b[39;49;00m)\u001b[39;49;00m\n",
      "\u001b[34mdef\u001b[39;49;00m \u001b[39;49;00m\u001b[32mand_the_following_user_details\u001b[39;49;00m(\u001b[39;49;00mstep\u001b[39;49;00m)\u001b[39;49;00m:\u001b[39;49;00m\n",
      "    \u001b[39;49;00m\u001b[33m'''Check the correct user data is in the response.'''\u001b[39;49;00m\n",
      "    \u001b[39;49;00massert_equals\u001b[39;49;00m(\u001b[39;49;00mstep\u001b[39;49;00m.\u001b[39;49;00mhashes\u001b[39;49;00m,\u001b[39;49;00m \u001b[39;49;00m[\u001b[39;49;00mjson\u001b[39;49;00m.\u001b[39;49;00mloads\u001b[39;49;00m(\u001b[39;49;00mworld\u001b[39;49;00m.\u001b[39;49;00mresponse\u001b[39;49;00m.\u001b[39;49;00mdata\u001b[39;49;00m)\u001b[39;49;00m]\u001b[39;49;00m)\u001b[39;49;00m\n"
     ]
    }
   ],
   "source": [
    "%%bash\n",
    "pygmentize ./test/features/steps.py"
   ]
  },
  {
   "cell_type": "code",
   "execution_count": 8,
   "metadata": {
    "collapsed": false
   },
   "outputs": [
    {
     "name": "stdout",
     "output_type": "stream",
     "text": [
      "Welcome to my Behavior Driven Development REST server"
     ]
    }
   ],
   "source": [
    "%%bash \n",
    "curl --silent localhost:5000/"
   ]
  },
  {
   "cell_type": "code",
   "execution_count": 9,
   "metadata": {
    "collapsed": false
   },
   "outputs": [
    {
     "name": "stdout",
     "output_type": "stream",
     "text": [
      "{\n",
      "  \"jack01\": {\n",
      "    \"name\": \"Jack\"\n",
      "  }, \n",
      "  \"seth02\": {\n",
      "    \"name\": \"Seth\"\n",
      "  }, \n",
      "  \"zero00\": {\n",
      "    \"name\": \"Zero\"\n",
      "  }\n",
      "}"
     ]
    }
   ],
   "source": [
    "%%bash \n",
    "curl --silent localhost:5000/users"
   ]
  },
  {
   "cell_type": "code",
   "execution_count": 11,
   "metadata": {
    "collapsed": false
   },
   "outputs": [
    {
     "name": "stdout",
     "output_type": "stream",
     "text": [
      "{\n",
      "  \"name\": \"Zero\"\n",
      "}"
     ]
    }
   ],
   "source": [
    "%%bash \n",
    "curl --silent localhost:5000/user/zero00"
   ]
  },
  {
   "cell_type": "code",
   "execution_count": 26,
   "metadata": {
    "collapsed": false,
    "slideshow": {
     "slide_type": "notes"
    }
   },
   "outputs": [
    {
     "name": "stdout",
     "output_type": "stream",
     "text": [
      "\n",
      "\u001b[1;37mFeature: Handle storing, retrieving and deleting customer details \u001b[1;30m# test/features/user.features:2\u001b[0m\n",
      "\n",
      "\u001b[1;37m  Scenario: Retrieve a customer's details                         \u001b[1;30m# test/features/user.features:3\u001b[0m\n",
      "\u001b[1;30m    Given some users are in the system                            \u001b[1;30m# test/features/steps.py:17\u001b[0m\n",
      "\u001b[A\u001b[1;32m    Given some users are in the system                            \u001b[1;30m# test/features/steps.py:17\u001b[0m\n",
      "\u001b[1;30m    When I retrieve the customer 'david01'                        \u001b[1;30m# test/features/steps.py:22\u001b[0m\n",
      "\u001b[A\u001b[1;32m    When I retrieve the customer 'david01'                        \u001b[1;30m# test/features/steps.py:22\u001b[0m\n",
      "\u001b[1;30m    Then I should get a '200' response                            \u001b[1;30m# test/features/steps.py:30\u001b[0m\n",
      "\u001b[A\u001b[1;32m    Then I should get a '200' response                            \u001b[1;30m# test/features/steps.py:30\u001b[0m\n",
      "\u001b[1;30m    And the following user details are returned:                  \u001b[1;30m# test/features/steps.py:35\u001b[0m\n",
      "\u001b[1;30m     \u001b[1;37m |\u001b[1;30m name \u001b[1;37m |\u001b[1;30m\u001b[0m\n",
      "\u001b[1;30m     \u001b[1;37m |\u001b[1;30m David\u001b[1;37m |\u001b[1;30m\u001b[0m\n",
      "\u001b[A\u001b[A\u001b[A\u001b[1;32m    And the following user details are returned:                  \u001b[1;30m# test/features/steps.py:35\u001b[0m\n",
      "\u001b[1;32m     \u001b[1;37m |\u001b[1;32m name \u001b[1;37m |\u001b[1;32m\u001b[0m\n",
      "\u001b[1;32m     \u001b[1;37m |\u001b[1;32m David\u001b[1;37m |\u001b[1;32m\u001b[0m\n",
      "\n",
      "\u001b[1;37m1 feature (\u001b[1;32m1 passed\u001b[1;37m)\u001b[0m\n",
      "\u001b[1;37m1 scenario (\u001b[1;32m1 passed\u001b[1;37m)\u001b[0m\n",
      "\u001b[1;37m4 steps (\u001b[1;32m4 passed\u001b[1;37m)\u001b[0m\n"
     ]
    }
   ],
   "source": [
    "%%bash\n",
    "lettuce test/features/user.features\n",
    "# Excuse the double printing. This does not happen on the CLI."
   ]
  },
  {
   "cell_type": "markdown",
   "metadata": {},
   "source": [
    "### TODO\n",
    "Handle:\n",
    "- Update user data \n",
    "- Delete user data"
   ]
  }
 ],
 "metadata": {
  "kernelspec": {
   "display_name": "Python 2",
   "language": "python",
   "name": "python2"
  },
  "language_info": {
   "codemirror_mode": {
    "name": "ipython",
    "version": 2
   },
   "file_extension": ".py",
   "mimetype": "text/x-python",
   "name": "python",
   "nbconvert_exporter": "python",
   "pygments_lexer": "ipython2",
   "version": "2.7.6"
  }
 },
 "nbformat": 4,
 "nbformat_minor": 0
}
