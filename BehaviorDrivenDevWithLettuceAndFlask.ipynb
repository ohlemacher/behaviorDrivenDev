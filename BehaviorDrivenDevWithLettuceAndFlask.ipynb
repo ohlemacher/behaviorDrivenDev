{
 "cells": [
  {
   "cell_type": "markdown",
   "metadata": {},
   "source": [
    "## Experiments with Behavior Driven Development\n",
    "This is my introduction to behavior driven development (BDD) in Python. I have implemented a simple RESTful application using the Flask web framework. Lettuce is used enforce the mapping of user stories to tests via very simple description language called gherkin.\n",
    "\n",
    "References:\n",
    "- [Behavior Driven Development](https://semaphoreci.com/community/tutorials/behavior-driven-development)\n",
    "- [Lettuce](http://lettuce.it/)\n",
    "- [Flask Quick Start](http://flask.pocoo.org/docs/0.10/quickstart/)\n",
    "- [Designing a RESTful API with Python and Flask](http://blog.miguelgrinberg.com/post/designing-a-restful-api-with-python-and-flask)\n",
    "- [Best Practices for Designing a Pragmatic RESTful API](http://www.vinaysahni.com/best-practices-for-a-pragmatic-restful-api)"
   ]
  },
  {
   "cell_type": "markdown",
   "metadata": {},
   "source": [
    "### My first user story written in Gherkin\n",
    "Gherkin is the language that Lettuce understands. It is a Business Readable, Domain Specific Language that lets one describe software’s behaviour without detailing how that behaviour is implemented.\n",
    "\n",
    "Lettuce is a Python tool for BDD that understands Gherkin. It can execute plain-text (Gherkin) functional descriptions as automated tests for Python projects.\n",
    "\n",
    "Lettuce makes the development and testing process traceable, scalable, readable and - what is best - it allows someone who doesn’t program to describe the behavior of our system, without imagining those descriptions will automatically test the system during its development.\n",
    "\n",
    "In this experiment, user stories are captured in user.features:"
   ]
  },
  {
   "cell_type": "code",
   "execution_count": 7,
   "metadata": {
    "collapsed": false
   },
   "outputs": [
    {
     "name": "stdout",
     "output_type": "stream",
     "text": [
      "Feature: RESTful server\n",
      "    In order to play with BDD and REST\n",
      "    As beginners\n",
      "    We will handle storing, retrieving and deleting user details in a RESTful manner\n",
      "\n",
      "    Scenario: Retrieve a user's details\n",
      "        Given some users are in the system\n",
      "        When I retrieve the user 'david01'\n",
      "        Then I should get a '200' response\n",
      "        And the following user details are returned:\n",
      "            | name |\n",
      "            | David |\n",
      "    \n",
      "    Scenario: Delete an existing user's details\n",
      "        Given some users are in the system\n",
      "        When I delete the user 'david01'\n",
      "        Then I should get a '200' response\n",
      "        And the message 'User david01 deleted' is returned\n",
      "        And the user 'david01' is removed\n",
      "        Then when I retrieve the user 'david01'\n",
      "        Then I should get a '404' response\n",
      "        And the message 'User david01 not found' is returned\n",
      "\n"
     ]
    }
   ],
   "source": [
    "%%bash\n",
    "cat test/features/user.features"
   ]
  },
  {
   "cell_type": "markdown",
   "metadata": {},
   "source": [
    "### Behavior test implementation\n",
    "User features define behaviors, but Python code is required to test the behaviors.  These are implemented in steps.py.\n",
    "\n",
    "If one runs lettuce without implementing the step(s), lettuce will quite helpfully provide stubs that will execute but, at this point correctly, fail with a message that they need to be implemented."
   ]
  },
  {
   "cell_type": "code",
   "execution_count": 4,
   "metadata": {
    "collapsed": false
   },
   "outputs": [
    {
     "name": "stdout",
     "output_type": "stream",
     "text": [
      "\n",
      "0001: \u001b[37m# -*- coding: utf-8 -*-\u001b[39;49;00m\n",
      "0002: \n",
      "0003: \n",
      "0004: \u001b[33m''\u001b[39;49;00m\n",
      "0005: \u001b[33mAllow defining steps and store values to be used across each step in th\u001b[39;49;00m\n",
      "0006: \u001b[33mworld object\u001b[39;49;00m\u001b[33m'''\u001b[39;49;00m\n",
      "0007: \u001b[34mfrom\u001b[39;49;00m \u001b[39;49;00m\u001b[04m\u001b[36mlettuce\u001b[39;49;00m \u001b[39;49;00m\u001b[34mimport\u001b[39;49;00m \u001b[39;49;00mstep\u001b[39;49;00m,\u001b[39;49;00m \u001b[39;49;00mworld\u001b[39;49;00m,\u001b[39;49;00m \u001b[39;49;00mbefore\u001b[39;49;00m\n",
      "0008: \u001b[34mfrom\u001b[39;49;00m \u001b[39;49;00m\u001b[04m\u001b[36mnose.tools\u001b[39;49;00m \u001b[39;49;00m\u001b[34mimport\u001b[39;49;00m \u001b[39;49;00massert_equals\u001b[39;49;00m\n",
      "0009: \u001b[34mfrom\u001b[39;49;00m \u001b[39;49;00m\u001b[04m\u001b[36mapp.application\u001b[39;49;00m \u001b[39;49;00m\u001b[34mimport\u001b[39;49;00m \u001b[39;49;00mapp\u001b[39;49;00m,\u001b[39;49;00m \u001b[39;49;00mUSERS\u001b[39;49;00m\n",
      "0010: \u001b[34mimport\u001b[39;49;00m \u001b[39;49;00m\u001b[04m\u001b[36mjson\u001b[39;49;00m\n",
      "0011: \n",
      "0012: \u001b[37m# Test user query\u001b[39;49;00m\n",
      "0013: \u001b[30;01m@before.all\u001b[39;49;00m\n",
      "0014: \u001b[34mdef\u001b[39;49;00m \u001b[39;49;00m\u001b[32mbefore_all\u001b[39;49;00m(\u001b[39;49;00m)\u001b[39;49;00m:\u001b[39;49;00m\n",
      "0015:     \u001b[39;49;00m\u001b[33m'''Setup for testing.'''\u001b[39;49;00m\n",
      "0016:     \u001b[39;49;00mworld\u001b[39;49;00m.\u001b[39;49;00mapp\u001b[39;49;00m \u001b[39;49;00m=\u001b[39;49;00m \u001b[39;49;00mapp\u001b[39;49;00m.\u001b[39;49;00mtest_client\u001b[39;49;00m(\u001b[39;49;00m)\u001b[39;49;00m\n",
      "0017: \n",
      "0018: \u001b[30;01m@step\u001b[39;49;00m(\u001b[39;49;00m\u001b[33mu'\u001b[39;49;00m\u001b[33mGiven some users are in the system\u001b[39;49;00m\u001b[33m'\u001b[39;49;00m)\u001b[39;49;00m\n",
      "0019: \u001b[34mdef\u001b[39;49;00m \u001b[39;49;00m\u001b[32mgiven_some_users_are_in_the_system\u001b[39;49;00m(\u001b[39;49;00mstep\u001b[39;49;00m)\u001b[39;49;00m:\u001b[39;49;00m\n",
      "0020:     \u001b[39;49;00m\u001b[33m'''Add a user to USERS for testing against.'''\u001b[39;49;00m\n",
      "0021:     \u001b[39;49;00mUSERS\u001b[39;49;00m.\u001b[39;49;00mupdate\u001b[39;49;00m(\u001b[39;49;00m{\u001b[39;49;00m\u001b[33m'\u001b[39;49;00m\u001b[33mdavid01\u001b[39;49;00m\u001b[33m'\u001b[39;49;00m:\u001b[39;49;00m \u001b[39;49;00m{\u001b[39;49;00m\u001b[33m'\u001b[39;49;00m\u001b[33mname\u001b[39;49;00m\u001b[33m'\u001b[39;49;00m:\u001b[39;49;00m \u001b[39;49;00m\u001b[33m'\u001b[39;49;00m\u001b[33mDavid\u001b[39;49;00m\u001b[33m'\u001b[39;49;00m}\u001b[39;49;00m}\u001b[39;49;00m)\u001b[39;49;00m\n",
      "0022: \n",
      "0023: \u001b[30;01m@step\u001b[39;49;00m(\u001b[39;49;00m\u001b[33mu'\u001b[39;49;00m\u001b[33mWhen I retrieve the user \u001b[39;49;00m\u001b[33m\\'\u001b[39;49;00m\u001b[33m(.*)\u001b[39;49;00m\u001b[33m\\'\u001b[39;49;00m\u001b[33m'\u001b[39;49;00m)\u001b[39;49;00m\n",
      "0024: \u001b[34mdef\u001b[39;49;00m \u001b[39;49;00m\u001b[32mwhen_i_retrieve_the_user_group1\u001b[39;49;00m(\u001b[39;49;00mstep\u001b[39;49;00m,\u001b[39;49;00m \u001b[39;49;00musername\u001b[39;49;00m)\u001b[39;49;00m:\u001b[39;49;00m\n",
      "0025:     \u001b[39;49;00m\n",
      "0026: \u001b[33m''\u001b[39;49;00m\n",
      "0027: \u001b[33m    A capture group is used in the regular expression allowing us t\u001b[39;49;00m\n",
      "0028: \u001b[33m    pass in variables to the step. This allows for the reuse of steps\u001b[39;49;00m\u001b[33m    '''\u001b[39;49;00m\n",
      "0029:     \u001b[39;49;00mworld\u001b[39;49;00m.\u001b[39;49;00mresponse\u001b[39;49;00m \u001b[39;49;00m=\u001b[39;49;00m \u001b[39;49;00mworld\u001b[39;49;00m.\u001b[39;49;00mapp\u001b[39;49;00m.\u001b[39;49;00mget\u001b[39;49;00m(\u001b[39;49;00m\u001b[33m'\u001b[39;49;00m\u001b[33m/users/{}\u001b[39;49;00m\u001b[33m'\u001b[39;49;00m.\u001b[39;49;00mformat\u001b[39;49;00m(\u001b[39;49;00musername\u001b[39;49;00m)\u001b[39;49;00m)\u001b[39;49;00m\n",
      "0030: \n",
      "0031: \u001b[30;01m@step\u001b[39;49;00m(\u001b[39;49;00m\u001b[33mu'\u001b[39;49;00m\u001b[33mThen I should get a \u001b[39;49;00m\u001b[33m\\'\u001b[39;49;00m\u001b[33m(.*)\u001b[39;49;00m\u001b[33m\\'\u001b[39;49;00m\u001b[33m response\u001b[39;49;00m\u001b[33m'\u001b[39;49;00m)\u001b[39;49;00m\n",
      "0032: \u001b[34mdef\u001b[39;49;00m \u001b[39;49;00m\u001b[32mthen_i_should_get_a_group1_response_group2\u001b[39;49;00m(\u001b[39;49;00mstep\u001b[39;49;00m,\u001b[39;49;00m \u001b[39;49;00mexpected_status_code\u001b[39;49;00m)\u001b[39;49;00m:\u001b[39;49;00m\n",
      "0033:     \u001b[39;49;00m\u001b[33m'''Check the status_code.'''\u001b[39;49;00m\n",
      "0034:     \u001b[39;49;00massert_equals\u001b[39;49;00m(\u001b[39;49;00mworld\u001b[39;49;00m.\u001b[39;49;00mresponse\u001b[39;49;00m.\u001b[39;49;00mstatus_code\u001b[39;49;00m,\u001b[39;49;00m \u001b[39;49;00m\u001b[36mint\u001b[39;49;00m(\u001b[39;49;00mexpected_status_code\u001b[39;49;00m)\u001b[39;49;00m)\u001b[39;49;00m\n",
      "0035: \n",
      "0036: \u001b[30;01m@step\u001b[39;49;00m(\u001b[39;49;00m\u001b[33mu'\u001b[39;49;00m\u001b[33mAnd the following user details are returned:\u001b[39;49;00m\u001b[33m'\u001b[39;49;00m)\u001b[39;49;00m\n",
      "0037: \u001b[34mdef\u001b[39;49;00m \u001b[39;49;00m\u001b[32mand_the_following_user_details\u001b[39;49;00m(\u001b[39;49;00mstep\u001b[39;49;00m)\u001b[39;49;00m:\u001b[39;49;00m\n",
      "0038:     \u001b[39;49;00m\u001b[33m'''Check the correct user data is in the response.'''\u001b[39;49;00m\n",
      "0039:     \u001b[39;49;00massert_equals\u001b[39;49;00m(\u001b[39;49;00mstep\u001b[39;49;00m.\u001b[39;49;00mhashes\u001b[39;49;00m,\u001b[39;49;00m \u001b[39;49;00m[\u001b[39;49;00mjson\u001b[39;49;00m.\u001b[39;49;00mloads\u001b[39;49;00m(\u001b[39;49;00mworld\u001b[39;49;00m.\u001b[39;49;00mresponse\u001b[39;49;00m.\u001b[39;49;00mdata\u001b[39;49;00m)\u001b[39;49;00m]\u001b[39;49;00m)\u001b[39;49;00m\n",
      "0040: \n",
      "0041: \n",
      "0042: \u001b[37m# Test existing user deletion\u001b[39;49;00m\n",
      "0043: \u001b[30;01m@step\u001b[39;49;00m(\u001b[39;49;00m\u001b[33mu'\u001b[39;49;00m\u001b[33mWhen I delete the user \u001b[39;49;00m\u001b[33m\\'\u001b[39;49;00m\u001b[33m([^\u001b[39;49;00m\u001b[33m\\'\u001b[39;49;00m\u001b[33m]*)\u001b[39;49;00m\u001b[33m\\'\u001b[39;49;00m\u001b[33m'\u001b[39;49;00m)\u001b[39;49;00m\n",
      "0044: \u001b[34mdef\u001b[39;49;00m \u001b[39;49;00m\u001b[32mwhen_i_delete_the_user_group1\u001b[39;49;00m(\u001b[39;49;00mstep\u001b[39;49;00m,\u001b[39;49;00m \u001b[39;49;00musername\u001b[39;49;00m)\u001b[39;49;00m:\u001b[39;49;00m\n",
      "0045:     \u001b[39;49;00mworld\u001b[39;49;00m.\u001b[39;49;00mresponse\u001b[39;49;00m \u001b[39;49;00m=\u001b[39;49;00m \u001b[39;49;00mworld\u001b[39;49;00m.\u001b[39;49;00mapp\u001b[39;49;00m.\u001b[39;49;00mdelete\u001b[39;49;00m(\u001b[39;49;00m\u001b[33m'\u001b[39;49;00m\u001b[33m/users/{}\u001b[39;49;00m\u001b[33m'\u001b[39;49;00m.\u001b[39;49;00mformat\u001b[39;49;00m(\u001b[39;49;00musername\u001b[39;49;00m)\u001b[39;49;00m)\u001b[39;49;00m\n",
      "0046: \n",
      "0047: \u001b[30;01m@step\u001b[39;49;00m(\u001b[39;49;00m\u001b[33mu'\u001b[39;49;00m\u001b[33mAnd the message \u001b[39;49;00m\u001b[33m\\'\u001b[39;49;00m\u001b[33m([^\u001b[39;49;00m\u001b[33m\\'\u001b[39;49;00m\u001b[33m]*)\u001b[39;49;00m\u001b[33m\\'\u001b[39;49;00m\u001b[33m is returned\u001b[39;49;00m\u001b[33m'\u001b[39;49;00m)\u001b[39;49;00m\n",
      "0048: \u001b[34mdef\u001b[39;49;00m \u001b[39;49;00m\u001b[32mand_the_message_group1_is_returned\u001b[39;49;00m(\u001b[39;49;00mstep\u001b[39;49;00m,\u001b[39;49;00m \u001b[39;49;00mgroup1\u001b[39;49;00m)\u001b[39;49;00m:\u001b[39;49;00m\n",
      "0049:     \u001b[39;49;00massert_equals\u001b[39;49;00m(\u001b[39;49;00mworld\u001b[39;49;00m.\u001b[39;49;00mresponse\u001b[39;49;00m.\u001b[39;49;00mdata\u001b[39;49;00m,\u001b[39;49;00m \u001b[39;49;00mgroup1\u001b[39;49;00m)\u001b[39;49;00m\n",
      "0050: \n",
      "0051: \u001b[30;01m@step\u001b[39;49;00m(\u001b[39;49;00m\u001b[33mu'\u001b[39;49;00m\u001b[33mAnd the user \u001b[39;49;00m\u001b[33m\\'\u001b[39;49;00m\u001b[33m([^\u001b[39;49;00m\u001b[33m\\'\u001b[39;49;00m\u001b[33m]*)\u001b[39;49;00m\u001b[33m\\'\u001b[39;49;00m\u001b[33m is removed\u001b[39;49;00m\u001b[33m'\u001b[39;49;00m)\u001b[39;49;00m\n",
      "0052: \u001b[34mdef\u001b[39;49;00m \u001b[39;49;00m\u001b[32mand_the_user_group1_is_removed\u001b[39;49;00m(\u001b[39;49;00mstep\u001b[39;49;00m,\u001b[39;49;00m \u001b[39;49;00mgroup1\u001b[39;49;00m)\u001b[39;49;00m:\u001b[39;49;00m\n",
      "0053:     \u001b[39;49;00mworld\u001b[39;49;00m.\u001b[39;49;00mresponse\u001b[39;49;00m \u001b[39;49;00m=\u001b[39;49;00m \u001b[39;49;00mworld\u001b[39;49;00m.\u001b[39;49;00mapp\u001b[39;49;00m.\u001b[39;49;00mget\u001b[39;49;00m(\u001b[39;49;00m\u001b[33m'\u001b[39;49;00m\u001b[33m/users/{}\u001b[39;49;00m\u001b[33m'\u001b[39;49;00m.\u001b[39;49;00mformat\u001b[39;49;00m(\u001b[39;49;00mgroup1\u001b[39;49;00m)\u001b[39;49;00m)\u001b[39;49;00m\n",
      "0054:     \u001b[39;49;00massert_equals\u001b[39;49;00m(\u001b[39;49;00mworld\u001b[39;49;00m.\u001b[39;49;00mresponse\u001b[39;49;00m.\u001b[39;49;00mstatus_code\u001b[39;49;00m,\u001b[39;49;00m \u001b[39;49;00m\u001b[36mint\u001b[39;49;00m(\u001b[39;49;00m\u001b[34m404\u001b[39;49;00m)\u001b[39;49;00m)\u001b[39;49;00m\n",
      "0055: \n",
      "0056: \u001b[30;01m@step\u001b[39;49;00m(\u001b[39;49;00m\u001b[33mu'\u001b[39;49;00m\u001b[33mAnd the following message is returned:\u001b[39;49;00m\u001b[33m'\u001b[39;49;00m)\u001b[39;49;00m\n",
      "0057: \u001b[34mdef\u001b[39;49;00m \u001b[39;49;00m\u001b[32mand_the_following_message_is_returned\u001b[39;49;00m(\u001b[39;49;00mstep\u001b[39;49;00m)\u001b[39;49;00m:\u001b[39;49;00m\n",
      "0058:     \u001b[39;49;00m\u001b[34massert\u001b[39;49;00m \u001b[39;49;00m\u001b[36mFalse\u001b[39;49;00m,\u001b[39;49;00m \u001b[39;49;00m\u001b[33m'\u001b[39;49;00m\u001b[33mThis step must be implemented\u001b[39;49;00m\u001b[33m'\u001b[39;49;00m\n",
      "0059: \n"
     ]
    }
   ],
   "source": [
    "%%bash\n",
    "pygmentize -O style=murphy,linenos=1 ./test/features/steps.py"
   ]
  },
  {
   "cell_type": "markdown",
   "metadata": {},
   "source": [
    "### Running the REST server manually with curl\n",
    "#### GET"
   ]
  },
  {
   "cell_type": "code",
   "execution_count": 8,
   "metadata": {
    "collapsed": false
   },
   "outputs": [
    {
     "name": "stdout",
     "output_type": "stream",
     "text": [
      "Welcome to my Behavior Driven Development REST server"
     ]
    }
   ],
   "source": [
    "%%bash \n",
    "curl --silent localhost:5000/"
   ]
  },
  {
   "cell_type": "code",
   "execution_count": 9,
   "metadata": {
    "collapsed": false
   },
   "outputs": [
    {
     "name": "stdout",
     "output_type": "stream",
     "text": [
      "{\n",
      "  \"jack01\": {\n",
      "    \"name\": \"Jack\"\n",
      "  }, \n",
      "  \"seth02\": {\n",
      "    \"name\": \"Seth\"\n",
      "  }, \n",
      "  \"zero00\": {\n",
      "    \"name\": \"Zero\"\n",
      "  }\n",
      "}"
     ]
    }
   ],
   "source": [
    "%%bash \n",
    "curl --silent localhost:5000/users"
   ]
  },
  {
   "cell_type": "code",
   "execution_count": 11,
   "metadata": {
    "collapsed": false
   },
   "outputs": [
    {
     "name": "stdout",
     "output_type": "stream",
     "text": [
      "{\n",
      "  \"name\": \"Zero\"\n",
      "}"
     ]
    }
   ],
   "source": [
    "%%bash \n",
    "curl --silent localhost:5000/user/zero00"
   ]
  },
  {
   "cell_type": "markdown",
   "metadata": {},
   "source": [
    "#### DELETE"
   ]
  },
  {
   "cell_type": "code",
   "execution_count": 13,
   "metadata": {
    "collapsed": false
   },
   "outputs": [
    {
     "name": "stdout",
     "output_type": "stream",
     "text": [
      "HTTP/1.0 200 OK\r\n",
      "Content-Type: application/json\r\n",
      "Content-Length: 20\r\n",
      "Server: Werkzeug/0.11.2 Python/2.7.6\r\n",
      "Date: Mon, 14 Dec 2015 06:18:18 GMT\r\n",
      "\r\n",
      "{\n",
      "  \"name\": \"Zero\"\n",
      "}"
     ]
    }
   ],
   "source": [
    "%%bash\n",
    "curl -i --silent -H \"Accept: application/json\"  http://127.0.0.1:5000/users/zero00"
   ]
  },
  {
   "cell_type": "code",
   "execution_count": 15,
   "metadata": {
    "collapsed": false
   },
   "outputs": [
    {
     "name": "stdout",
     "output_type": "stream",
     "text": [
      "HTTP/1.0 200 OK\r\n",
      "Content-Type: text/html; charset=utf-8\r\n",
      "Content-Length: 19\r\n",
      "Server: Werkzeug/0.11.2 Python/2.7.6\r\n",
      "Date: Mon, 14 Dec 2015 06:20:53 GMT\r\n",
      "\r\n",
      "User zero00 deleted"
     ]
    }
   ],
   "source": [
    "%%bash\n",
    "curl -i --silent -H \"Accept: application/json\" -X DELETE http://127.0.0.1:5000/users/zero00"
   ]
  },
  {
   "cell_type": "code",
   "execution_count": 16,
   "metadata": {
    "collapsed": false
   },
   "outputs": [
    {
     "name": "stdout",
     "output_type": "stream",
     "text": [
      "HTTP/1.0 404 NOT FOUND\r\n",
      "Content-Type: text/html; charset=utf-8\r\n",
      "Content-Length: 21\r\n",
      "Server: Werkzeug/0.11.2 Python/2.7.6\r\n",
      "Date: Mon, 14 Dec 2015 06:21:11 GMT\r\n",
      "\r\n",
      "User zero00 not found"
     ]
    }
   ],
   "source": [
    "%%bash\n",
    "curl -i --silent -H \"Accept: application/json\"  http://127.0.0.1:5000/users/zero00"
   ]
  },
  {
   "cell_type": "markdown",
   "metadata": {},
   "source": [
    "### Running the tests"
   ]
  },
  {
   "cell_type": "code",
   "execution_count": 17,
   "metadata": {
    "collapsed": false,
    "slideshow": {
     "slide_type": "notes"
    }
   },
   "outputs": [
    {
     "name": "stdout",
     "output_type": "stream",
     "text": [
      "\n",
      "\u001b[1;37mFeature: RESTful server                                                            \u001b[1;30m# test/features/user.features:1\u001b[0m\n",
      "\u001b[1;37m  In order to play with BDD and REST                                               \u001b[1;30m# test/features/user.features:2\u001b[0m\n",
      "\u001b[1;37m  As beginners                                                                     \u001b[1;30m# test/features/user.features:3\u001b[0m\n",
      "\u001b[1;37m  We will handle storing, retrieving and deleting user details in a RESTful manner \u001b[1;30m# test/features/user.features:4\u001b[0m\n",
      "\n",
      "\u001b[1;37m  Scenario: Retrieve a user's details                                              \u001b[1;30m# test/features/user.features:6\u001b[0m\n",
      "\u001b[1;30m    Given some users are in the system                                             \u001b[1;30m# test/features/steps.py:19\u001b[0m\n",
      "\u001b[A\u001b[1;32m    Given some users are in the system                                             \u001b[1;30m# test/features/steps.py:19\u001b[0m\n",
      "\u001b[1;30m    When I retrieve the user 'david01'                                             \u001b[1;30m# test/features/steps.py:24\u001b[0m\n",
      "\u001b[A\u001b[1;32m    When I retrieve the user 'david01'                                             \u001b[1;30m# test/features/steps.py:24\u001b[0m\n",
      "\u001b[1;30m    Then I should get a '200' response                                             \u001b[1;30m# test/features/steps.py:32\u001b[0m\n",
      "\u001b[A\u001b[1;32m    Then I should get a '200' response                                             \u001b[1;30m# test/features/steps.py:32\u001b[0m\n",
      "\u001b[1;30m    And the following user details are returned:                                   \u001b[1;30m# test/features/steps.py:37\u001b[0m\n",
      "\u001b[1;30m     \u001b[1;37m |\u001b[1;30m name \u001b[1;37m |\u001b[1;30m\u001b[0m\n",
      "\u001b[1;30m     \u001b[1;37m |\u001b[1;30m David\u001b[1;37m |\u001b[1;30m\u001b[0m\n",
      "\u001b[A\u001b[A\u001b[A\u001b[1;32m    And the following user details are returned:                                   \u001b[1;30m# test/features/steps.py:37\u001b[0m\n",
      "\u001b[1;32m     \u001b[1;37m |\u001b[1;32m name \u001b[1;37m |\u001b[1;32m\u001b[0m\n",
      "\u001b[1;32m     \u001b[1;37m |\u001b[1;32m David\u001b[1;37m |\u001b[1;32m\u001b[0m\n",
      "\n",
      "\u001b[1;37m  Scenario: Delete an existing user's details                                      \u001b[1;30m# test/features/user.features:14\u001b[0m\n",
      "\u001b[1;30m    Given some users are in the system                                             \u001b[1;30m# test/features/steps.py:19\u001b[0m\n",
      "\u001b[A\u001b[1;32m    Given some users are in the system                                             \u001b[1;30m# test/features/steps.py:19\u001b[0m\n",
      "\u001b[1;30m    When I delete the user 'david01'                                               \u001b[1;30m# test/features/steps.py:44\u001b[0m\n",
      "\u001b[A\u001b[1;32m    When I delete the user 'david01'                                               \u001b[1;30m# test/features/steps.py:44\u001b[0m\n",
      "\u001b[1;30m    Then I should get a '200' response                                             \u001b[1;30m# test/features/steps.py:32\u001b[0m\n",
      "\u001b[A\u001b[1;32m    Then I should get a '200' response                                             \u001b[1;30m# test/features/steps.py:32\u001b[0m\n",
      "\u001b[1;30m    And the message 'User david01 deleted' is returned                             \u001b[1;30m# test/features/steps.py:48\u001b[0m\n",
      "\u001b[A\u001b[1;32m    And the message 'User david01 deleted' is returned                             \u001b[1;30m# test/features/steps.py:48\u001b[0m\n",
      "\u001b[1;30m    And the user 'david01' is removed                                              \u001b[1;30m# test/features/steps.py:52\u001b[0m\n",
      "\u001b[A\u001b[1;32m    And the user 'david01' is removed                                              \u001b[1;30m# test/features/steps.py:52\u001b[0m\n",
      "\u001b[1;30m    Then when I retrieve the user 'david01'                                        \u001b[1;30m# test/features/steps.py:24\u001b[0m\n",
      "\u001b[A\u001b[1;32m    Then when I retrieve the user 'david01'                                        \u001b[1;30m# test/features/steps.py:24\u001b[0m\n",
      "\u001b[1;30m    Then I should get a '404' response                                             \u001b[1;30m# test/features/steps.py:32\u001b[0m\n",
      "\u001b[A\u001b[1;32m    Then I should get a '404' response                                             \u001b[1;30m# test/features/steps.py:32\u001b[0m\n",
      "\u001b[1;30m    And the message 'User david01 not found' is returned                           \u001b[1;30m# test/features/steps.py:48\u001b[0m\n",
      "\u001b[A\u001b[1;32m    And the message 'User david01 not found' is returned                           \u001b[1;30m# test/features/steps.py:48\u001b[0m\n",
      "\n",
      "\u001b[1;37m1 feature (\u001b[1;32m1 passed\u001b[1;37m)\u001b[0m\n",
      "\u001b[1;37m2 scenarios (\u001b[1;32m2 passed\u001b[1;37m)\u001b[0m\n",
      "\u001b[1;37m12 steps (\u001b[1;32m12 passed\u001b[1;37m)\u001b[0m\n"
     ]
    }
   ],
   "source": [
    "%%bash\n",
    "lettuce test/features/user.features\n",
    "# Excuse the double printing. This does not happen on the CLI."
   ]
  },
  {
   "cell_type": "markdown",
   "metadata": {},
   "source": [
    "### TODO\n",
    "Test:\n",
    "- Update user data"
   ]
  },
  {
   "cell_type": "markdown",
   "metadata": {},
   "source": []
  }
 ],
 "metadata": {
  "kernelspec": {
   "display_name": "Python 2",
   "language": "python",
   "name": "python2"
  },
  "language_info": {
   "codemirror_mode": {
    "name": "ipython",
    "version": 2
   },
   "file_extension": ".py",
   "mimetype": "text/x-python",
   "name": "python",
   "nbconvert_exporter": "python",
   "pygments_lexer": "ipython2",
   "version": "2.7.6"
  }
 },
 "nbformat": 4,
 "nbformat_minor": 0
}
